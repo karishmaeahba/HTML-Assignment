{
  "nbformat": 4,
  "nbformat_minor": 0,
  "metadata": {
    "colab": {
      "provenance": [],
      "authorship_tag": "ABX9TyN12EUbxPnPuFgLEd/zb9N0",
      "include_colab_link": true
    },
    "kernelspec": {
      "name": "python3",
      "display_name": "Python 3"
    },
    "language_info": {
      "name": "python"
    }
  },
  "cells": [
    {
      "cell_type": "markdown",
      "metadata": {
        "id": "view-in-github",
        "colab_type": "text"
      },
      "source": [
        "<a href=\"https://colab.research.google.com/github/karishmaeahba/HTML-Assignment/blob/master/AWS_Python.ipynb\" target=\"_parent\"><img src=\"https://colab.research.google.com/assets/colab-badge.svg\" alt=\"Open In Colab\"/></a>"
      ]
    },
    {
      "cell_type": "code",
      "execution_count": 2,
      "metadata": {
        "colab": {
          "base_uri": "https://localhost:8080/"
        },
        "id": "UbJpbGYFM33h",
        "outputId": "33e76209-43e8-484d-80a3-ec8e3b6aa44f"
      },
      "outputs": [
        {
          "output_type": "stream",
          "name": "stdout",
          "text": [
            "Python 3.8.10\n"
          ]
        }
      ],
      "source": [
        "!python --version"
      ]
    },
    {
      "cell_type": "code",
      "source": [
        "a = 3+5\n",
        "print(a)\n",
        "print(\"Karishma\")"
      ],
      "metadata": {
        "colab": {
          "base_uri": "https://localhost:8080/"
        },
        "id": "I6PW3gRHPJDN",
        "outputId": "092c55c8-def2-45a3-fd2d-d3b87414ee7d"
      },
      "execution_count": 7,
      "outputs": [
        {
          "output_type": "stream",
          "name": "stdout",
          "text": [
            "8\n",
            "Karishma\n"
          ]
        }
      ]
    },
    {
      "cell_type": "code",
      "source": [
        "print(\"           \")"
      ],
      "metadata": {
        "colab": {
          "base_uri": "https://localhost:8080/"
        },
        "id": "k8iYE6ZGRqNS",
        "outputId": "88230d7c-ebae-4b7b-b472-77d39238ed00"
      },
      "execution_count": 8,
      "outputs": [
        {
          "output_type": "stream",
          "name": "stdout",
          "text": [
            "           \n"
          ]
        }
      ]
    },
    {
      "cell_type": "code",
      "source": [
        "x = 1.5\n",
        "y = 20\n",
        "z = x+y\n",
        "print(z)"
      ],
      "metadata": {
        "colab": {
          "base_uri": "https://localhost:8080/"
        },
        "id": "OyMCgI2DSwTg",
        "outputId": "3b419343-f2fe-448d-f8ef-bb53ae6ef113"
      },
      "execution_count": 11,
      "outputs": [
        {
          "output_type": "stream",
          "name": "stdout",
          "text": [
            "21.5\n"
          ]
        }
      ]
    },
    {
      "cell_type": "code",
      "source": [
        "student_name = \"karishma thakur\"\n",
        "print(student_name)"
      ],
      "metadata": {
        "colab": {
          "base_uri": "https://localhost:8080/"
        },
        "id": "LtxgoWJHUMiK",
        "outputId": "d783c935-f084-4fc9-a6da-c179c714c6b3"
      },
      "execution_count": 13,
      "outputs": [
        {
          "output_type": "stream",
          "name": "stdout",
          "text": [
            "karishma thakur\n"
          ]
        }
      ]
    },
    {
      "cell_type": "code",
      "source": [
        "#repetation of variable\n",
        "spd = \"Marvel thor\"\n",
        "print(spd)\n",
        "\n",
        "spd = 123\n",
        "print(spd)\n",
        "\n",
        "spd = 125.60\n",
        "print(spd)"
      ],
      "metadata": {
        "colab": {
          "base_uri": "https://localhost:8080/"
        },
        "id": "29sZJfkEVNc-",
        "outputId": "722e32b6-0d31-4223-d10f-6a7da1a09b73"
      },
      "execution_count": 14,
      "outputs": [
        {
          "output_type": "stream",
          "name": "stdout",
          "text": [
            "Marvel thor\n",
            "123\n",
            "125.6\n"
          ]
        }
      ]
    },
    {
      "cell_type": "code",
      "source": [
        "print(type(\"hello world\"))\n",
        "print(type(501))\n",
        "print(type(2.3456))"
      ],
      "metadata": {
        "colab": {
          "base_uri": "https://localhost:8080/"
        },
        "id": "iwgDz691WUeD",
        "outputId": "dd1b3b8f-0a31-4157-df54-f238045c39ad"
      },
      "execution_count": 17,
      "outputs": [
        {
          "output_type": "stream",
          "name": "stdout",
          "text": [
            "<class 'str'>\n",
            "<class 'int'>\n",
            "<class 'float'>\n"
          ]
        }
      ]
    },
    {
      "cell_type": "code",
      "source": [
        "# string addition\n",
        "company = \"Hoping\"\n",
        "name = \"Minds\"\n",
        "print(company,name)"
      ],
      "metadata": {
        "colab": {
          "base_uri": "https://localhost:8080/"
        },
        "id": "do9DgJdtYNHy",
        "outputId": "2206f2d0-92c7-4f87-f155-3f58becddd5b"
      },
      "execution_count": 18,
      "outputs": [
        {
          "output_type": "stream",
          "name": "stdout",
          "text": [
            "Hoping Minds\n"
          ]
        }
      ]
    },
    {
      "cell_type": "code",
      "source": [
        "# we can not add string and int and float"
      ],
      "metadata": {
        "id": "l_tQGGoFY2qz"
      },
      "execution_count": null,
      "outputs": []
    },
    {
      "cell_type": "code",
      "source": [
        "\"my shoe color \"+\"karishma\"\n",
        "shoe_color=\"red\"\n",
        "\"my shoe_color is\"+ shoe_color"
      ],
      "metadata": {
        "colab": {
          "base_uri": "https://localhost:8080/",
          "height": 36
        },
        "id": "ed07jipgZ5Uw",
        "outputId": "e16908a6-9ab7-4056-ae5b-04d339777ec0"
      },
      "execution_count": 22,
      "outputs": [
        {
          "output_type": "execute_result",
          "data": {
            "text/plain": [
              "'my shoe_color isred'"
            ],
            "application/vnd.google.colaboratory.intrinsic+json": {
              "type": "string"
            }
          },
          "metadata": {},
          "execution_count": 22
        }
      ]
    },
    {
      "cell_type": "code",
      "source": [
        "#Grading program\n",
        "#Take input from user and calculate average of that\n",
        "print(\"enter the grades\")\n",
        "grade1 = input(\"enter grade 1\")\n",
        "grade2 = input(\"enter grade 2\")\n",
        "grade3 = input(\"enter grade 3\")\n",
        "grade4 = input(\"enter grade 4\")\n",
        "grade5 = input(\"enter grade 5\")\n",
        "\n",
        "\n",
        "print(\"Average of the grades\")\n",
        "avg_grades=(int(grade1)+int(grade2)+int(grade3)+int(grade4)+int(grade5))/5\n",
        "print(avg_grades)\n",
        "90\n"
      ],
      "metadata": {
        "colab": {
          "base_uri": "https://localhost:8080/"
        },
        "id": "SZk174I6mXCr",
        "outputId": "007adee8-0bc2-4f11-ec7c-03233c8ddbe9"
      },
      "execution_count": 26,
      "outputs": [
        {
          "output_type": "stream",
          "name": "stdout",
          "text": [
            "enter the grades\n",
            "enter grade 170\n",
            "enter grade 2 45\n",
            "enter grade 380\n",
            "enter grade 490\n",
            "enter grade 530\n",
            "Average of the grades\n",
            "63.0\n"
          ]
        }
      ]
    },
    {
      "cell_type": "code",
      "source": [
        "print(\"enter the grades\")\n",
        "grade1 = int(input(\"enter grade 1 \"))\n",
        "grade2 = int(input(\"enter grade 2 \"))\n",
        "grade3 = int(input(\"enter grade 3 \"))\n",
        "grade4 = int(input(\"enter grade 4 \"))\n",
        "grade5 = int(input(\"enter grade 5 \"))\n",
        "\n",
        "\n",
        "print(\"Average of the grades\")\n",
        "avg_grades=(int(grade1)+int(grade2)+int(grade3)+int(grade4)+int(grade5))/5\n",
        "print(avg_grades)"
      ],
      "metadata": {
        "colab": {
          "base_uri": "https://localhost:8080/"
        },
        "id": "t1-R7U-SsZK3",
        "outputId": "06c5c9d9-9147-41e6-cd5f-dc29269e7394"
      },
      "execution_count": 28,
      "outputs": [
        {
          "output_type": "stream",
          "name": "stdout",
          "text": [
            "enter the grades\n",
            "enter grade 1 60\n",
            "enter grade 2 70\n",
            "enter grade 3 60\n",
            "enter grade 4 88\n",
            "enter grade 5 68\n",
            "Average of the grades\n",
            "69.2\n"
          ]
        }
      ]
    },
    {
      "cell_type": "code",
      "source": [
        "street = input(\"enter the name a street\")\n",
        "st_number = input(\"enter the street number\")\n",
        "print(\"the doctor livs at\",st_number,street,\"street\")"
      ],
      "metadata": {
        "colab": {
          "base_uri": "https://localhost:8080/"
        },
        "id": "en6S-PEntrvI",
        "outputId": "5de2b57c-d6a2-4fe1-a2c4-012cf5df0f92"
      },
      "execution_count": 30,
      "outputs": [
        {
          "output_type": "stream",
          "name": "stdout",
          "text": [
            "enter the name a street AM Hospital\n",
            "enter the street number 58\n",
            "the doctor livs at  58  AM Hospital street\n"
          ]
        }
      ]
    },
    {
      "cell_type": "code",
      "source": [
        "name1 = input(\"enter your name\")\n",
        "print(name1)\n",
        "print(type(name1))"
      ],
      "metadata": {
        "colab": {
          "base_uri": "https://localhost:8080/"
        },
        "id": "3dslYCY0rEKO",
        "outputId": "a225d2c3-db10-44dc-faac-7c8b194739d2"
      },
      "execution_count": 31,
      "outputs": [
        {
          "output_type": "stream",
          "name": "stdout",
          "text": [
            "enter your nameKarishma\n",
            "Karishma\n",
            "<class 'str'>\n"
          ]
        }
      ]
    },
    {
      "cell_type": "code",
      "source": [],
      "metadata": {
        "id": "suXsxKfrxl9v"
      },
      "execution_count": null,
      "outputs": []
    }
  ]
}