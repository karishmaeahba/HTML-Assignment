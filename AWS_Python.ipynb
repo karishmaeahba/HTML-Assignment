{
  "nbformat": 4,
  "nbformat_minor": 0,
  "metadata": {
    "colab": {
      "provenance": [],
      "authorship_tag": "ABX9TyODTEZL8zecU4CDyFsDH+yE",
      "include_colab_link": true
    },
    "kernelspec": {
      "name": "python3",
      "display_name": "Python 3"
    },
    "language_info": {
      "name": "python"
    }
  },
  "cells": [
    {
      "cell_type": "markdown",
      "metadata": {
        "id": "view-in-github",
        "colab_type": "text"
      },
      "source": [
        "<a href=\"https://colab.research.google.com/github/karishmaeahba/HTML-Assignment/blob/master/AWS_Python.ipynb\" target=\"_parent\"><img src=\"https://colab.research.google.com/assets/colab-badge.svg\" alt=\"Open In Colab\"/></a>"
      ]
    },
    {
      "cell_type": "code",
      "execution_count": null,
      "metadata": {
        "colab": {
          "base_uri": "https://localhost:8080/"
        },
        "id": "UbJpbGYFM33h",
        "outputId": "33e76209-43e8-484d-80a3-ec8e3b6aa44f"
      },
      "outputs": [
        {
          "output_type": "stream",
          "name": "stdout",
          "text": [
            "Python 3.8.10\n"
          ]
        }
      ],
      "source": [
        "!python --version"
      ]
    },
    {
      "cell_type": "code",
      "source": [
        "a = 3+5\n",
        "print(a)\n",
        "print(\"Karishma\")"
      ],
      "metadata": {
        "colab": {
          "base_uri": "https://localhost:8080/"
        },
        "id": "I6PW3gRHPJDN",
        "outputId": "092c55c8-def2-45a3-fd2d-d3b87414ee7d"
      },
      "execution_count": null,
      "outputs": [
        {
          "output_type": "stream",
          "name": "stdout",
          "text": [
            "8\n",
            "Karishma\n"
          ]
        }
      ]
    },
    {
      "cell_type": "code",
      "source": [
        "print(\"           \")"
      ],
      "metadata": {
        "colab": {
          "base_uri": "https://localhost:8080/"
        },
        "id": "k8iYE6ZGRqNS",
        "outputId": "88230d7c-ebae-4b7b-b472-77d39238ed00"
      },
      "execution_count": null,
      "outputs": [
        {
          "output_type": "stream",
          "name": "stdout",
          "text": [
            "           \n"
          ]
        }
      ]
    },
    {
      "cell_type": "code",
      "source": [
        "x = 1.5\n",
        "y = 20\n",
        "z = x+y\n",
        "print(z)"
      ],
      "metadata": {
        "colab": {
          "base_uri": "https://localhost:8080/"
        },
        "id": "OyMCgI2DSwTg",
        "outputId": "3b419343-f2fe-448d-f8ef-bb53ae6ef113"
      },
      "execution_count": null,
      "outputs": [
        {
          "output_type": "stream",
          "name": "stdout",
          "text": [
            "21.5\n"
          ]
        }
      ]
    },
    {
      "cell_type": "code",
      "source": [
        "student_name = \"karishma thakur\"\n",
        "print(student_name)"
      ],
      "metadata": {
        "colab": {
          "base_uri": "https://localhost:8080/"
        },
        "id": "LtxgoWJHUMiK",
        "outputId": "d783c935-f084-4fc9-a6da-c179c714c6b3"
      },
      "execution_count": null,
      "outputs": [
        {
          "output_type": "stream",
          "name": "stdout",
          "text": [
            "karishma thakur\n"
          ]
        }
      ]
    },
    {
      "cell_type": "code",
      "source": [
        "#repetation of variable\n",
        "spd = \"Marvel thor\"\n",
        "print(spd)\n",
        "\n",
        "spd = 123\n",
        "print(spd)\n",
        "\n",
        "spd = 125.60\n",
        "print(spd)"
      ],
      "metadata": {
        "colab": {
          "base_uri": "https://localhost:8080/"
        },
        "id": "29sZJfkEVNc-",
        "outputId": "722e32b6-0d31-4223-d10f-6a7da1a09b73"
      },
      "execution_count": null,
      "outputs": [
        {
          "output_type": "stream",
          "name": "stdout",
          "text": [
            "Marvel thor\n",
            "123\n",
            "125.6\n"
          ]
        }
      ]
    },
    {
      "cell_type": "code",
      "source": [
        "print(type(\"hello world\"))\n",
        "print(type(501))\n",
        "print(type(2.3456))"
      ],
      "metadata": {
        "colab": {
          "base_uri": "https://localhost:8080/"
        },
        "id": "iwgDz691WUeD",
        "outputId": "dd1b3b8f-0a31-4157-df54-f238045c39ad"
      },
      "execution_count": null,
      "outputs": [
        {
          "output_type": "stream",
          "name": "stdout",
          "text": [
            "<class 'str'>\n",
            "<class 'int'>\n",
            "<class 'float'>\n"
          ]
        }
      ]
    },
    {
      "cell_type": "code",
      "source": [
        "# string addition\n",
        "company = \"Hoping\"\n",
        "name = \"Minds\"\n",
        "print(company,name)"
      ],
      "metadata": {
        "colab": {
          "base_uri": "https://localhost:8080/"
        },
        "id": "do9DgJdtYNHy",
        "outputId": "2206f2d0-92c7-4f87-f155-3f58becddd5b"
      },
      "execution_count": null,
      "outputs": [
        {
          "output_type": "stream",
          "name": "stdout",
          "text": [
            "Hoping Minds\n"
          ]
        }
      ]
    },
    {
      "cell_type": "code",
      "source": [
        "# we can not add string and int and float"
      ],
      "metadata": {
        "id": "l_tQGGoFY2qz"
      },
      "execution_count": null,
      "outputs": []
    },
    {
      "cell_type": "code",
      "source": [
        "\"my shoe color \"+\"karishma\"\n",
        "shoe_color=\"red\"\n",
        "\"my shoe_color is\"+ shoe_color"
      ],
      "metadata": {
        "colab": {
          "base_uri": "https://localhost:8080/",
          "height": 36
        },
        "id": "ed07jipgZ5Uw",
        "outputId": "e16908a6-9ab7-4056-ae5b-04d339777ec0"
      },
      "execution_count": null,
      "outputs": [
        {
          "output_type": "execute_result",
          "data": {
            "text/plain": [
              "'my shoe_color isred'"
            ],
            "application/vnd.google.colaboratory.intrinsic+json": {
              "type": "string"
            }
          },
          "metadata": {},
          "execution_count": 22
        }
      ]
    },
    {
      "cell_type": "code",
      "source": [
        "#Grading program\n",
        "#Take input from user and calculate average of that\n",
        "print(\"enter the grades\")\n",
        "grade1 = input(\"enter grade 1\")\n",
        "grade2 = input(\"enter grade 2\")\n",
        "grade3 = input(\"enter grade 3\")\n",
        "grade4 = input(\"enter grade 4\")\n",
        "grade5 = input(\"enter grade 5\")\n",
        "\n",
        "\n",
        "print(\"Average of the grades\")\n",
        "avg_grades=(int(grade1)+int(grade2)+int(grade3)+int(grade4)+int(grade5))/5\n",
        "print(avg_grades)\n",
        "90\n"
      ],
      "metadata": {
        "colab": {
          "base_uri": "https://localhost:8080/"
        },
        "id": "SZk174I6mXCr",
        "outputId": "007adee8-0bc2-4f11-ec7c-03233c8ddbe9"
      },
      "execution_count": null,
      "outputs": [
        {
          "output_type": "stream",
          "name": "stdout",
          "text": [
            "enter the grades\n",
            "enter grade 170\n",
            "enter grade 2 45\n",
            "enter grade 380\n",
            "enter grade 490\n",
            "enter grade 530\n",
            "Average of the grades\n",
            "63.0\n"
          ]
        }
      ]
    },
    {
      "cell_type": "code",
      "source": [
        "print(\"enter the grades\")\n",
        "grade1 = int(input(\"enter grade 1 \"))\n",
        "grade2 = int(input(\"enter grade 2 \"))\n",
        "grade3 = int(input(\"enter grade 3 \"))\n",
        "grade4 = int(input(\"enter grade 4 \"))\n",
        "grade5 = int(input(\"enter grade 5 \"))\n",
        "\n",
        "\n",
        "print(\"Average of the grades\")\n",
        "avg_grades=(int(grade1)+int(grade2)+int(grade3)+int(grade4)+int(grade5))/5\n",
        "print(avg_grades)"
      ],
      "metadata": {
        "colab": {
          "base_uri": "https://localhost:8080/"
        },
        "id": "t1-R7U-SsZK3",
        "outputId": "06c5c9d9-9147-41e6-cd5f-dc29269e7394"
      },
      "execution_count": null,
      "outputs": [
        {
          "output_type": "stream",
          "name": "stdout",
          "text": [
            "enter the grades\n",
            "enter grade 1 60\n",
            "enter grade 2 70\n",
            "enter grade 3 60\n",
            "enter grade 4 88\n",
            "enter grade 5 68\n",
            "Average of the grades\n",
            "69.2\n"
          ]
        }
      ]
    },
    {
      "cell_type": "code",
      "source": [
        "street = input(\"enter the name a street\")\n",
        "st_number = input(\"enter the street number\")\n",
        "print(\"the doctor livs at\",st_number,street,\"street\")"
      ],
      "metadata": {
        "colab": {
          "base_uri": "https://localhost:8080/"
        },
        "id": "en6S-PEntrvI",
        "outputId": "5de2b57c-d6a2-4fe1-a2c4-012cf5df0f92"
      },
      "execution_count": null,
      "outputs": [
        {
          "output_type": "stream",
          "name": "stdout",
          "text": [
            "enter the name a street AM Hospital\n",
            "enter the street number 58\n",
            "the doctor livs at  58  AM Hospital street\n"
          ]
        }
      ]
    },
    {
      "cell_type": "code",
      "source": [
        "name1 = input(\"enter your name\")\n",
        "print(name1)\n",
        "print(type(name1))"
      ],
      "metadata": {
        "colab": {
          "base_uri": "https://localhost:8080/"
        },
        "id": "3dslYCY0rEKO",
        "outputId": "a225d2c3-db10-44dc-faac-7c8b194739d2"
      },
      "execution_count": null,
      "outputs": [
        {
          "output_type": "stream",
          "name": "stdout",
          "text": [
            "enter your nameKarishma\n",
            "Karishma\n",
            "<class 'str'>\n"
          ]
        }
      ]
    },
    {
      "cell_type": "code",
      "source": [
        "menu = \"salad, pasta, sandwich, pizza, drinks, dessert\"\n",
        "print('pizza' in menu)"
      ],
      "metadata": {
        "colab": {
          "base_uri": "https://localhost:8080/"
        },
        "id": "suXsxKfrxl9v",
        "outputId": "91b8d6ec-9cf8-47b8-f404-bb29b1ec4adc"
      },
      "execution_count": null,
      "outputs": [
        {
          "output_type": "stream",
          "name": "stdout",
          "text": [
            "True\n"
          ]
        }
      ]
    },
    {
      "cell_type": "code",
      "source": [
        "movies = \"Pathan, Tare zameen par, Robot, Shivaji the boss, Thor, Gaurdian of galaxy\"\n",
        "my_movie = input(\"Enter movie name\")\n",
        "print(my_movie in movies)"
      ],
      "metadata": {
        "colab": {
          "base_uri": "https://localhost:8080/"
        },
        "id": "0qWZyKFLJK9x",
        "outputId": "59394836-54c1-44a1-dcc9-cd2bdfe04e2a"
      },
      "execution_count": null,
      "outputs": [
        {
          "output_type": "stream",
          "name": "stdout",
          "text": [
            "Enter movie namePathan\n",
            "True\n"
          ]
        }
      ]
    },
    {
      "cell_type": "code",
      "source": [
        "def get_name():\n",
        "  name = input(\"what is your name?\")\n",
        "  print(\"the name you entered is\",name +\".\")\n",
        "\n",
        "print(\"This is a sample function\")\n",
        "get_name()"
      ],
      "metadata": {
        "colab": {
          "base_uri": "https://localhost:8080/"
        },
        "id": "OIP7-IjXKRE2",
        "outputId": "79b6b037-8dce-4851-ad4f-6a6401cbd0e0"
      },
      "execution_count": null,
      "outputs": [
        {
          "output_type": "stream",
          "name": "stdout",
          "text": [
            "This is a sample function\n",
            "what is your name?Karishma Thakur\n",
            "the name you entered is Karishma Thakur.\n"
          ]
        }
      ]
    },
    {
      "cell_type": "code",
      "source": [
        "#addition program\n",
        "def add_number():\n",
        "  num1 = input(\"enter a number:\")\n",
        "  num2 = input(\"enter a second number:\")\n",
        "  num3 = int(num1) + int(num2)\n",
        "  return num3\n",
        "\n",
        "print(\"welcome to the magic!\")\n",
        "num4 = add_number()\n",
        "print(num4)"
      ],
      "metadata": {
        "colab": {
          "base_uri": "https://localhost:8080/"
        },
        "id": "oO3WuAynOw-D",
        "outputId": "eedba1d0-a54f-4ef0-f0d7-f9540a203f1a"
      },
      "execution_count": null,
      "outputs": [
        {
          "output_type": "stream",
          "name": "stdout",
          "text": [
            "welcome to the magic!\n",
            "enter a number:89\n",
            "enter a second number:90\n",
            "179\n"
          ]
        }
      ]
    },
    {
      "cell_type": "code",
      "source": [
        "#define a function named say_hi\n",
        "def yell_it():\n",
        "  phrase = 'Extra Ice Cream PLease'\n",
        "  print()\n",
        "  print('yelling:',phrase.upper()+\"!\")\n",
        "\n",
        "yell_it()\n"
      ],
      "metadata": {
        "colab": {
          "base_uri": "https://localhost:8080/"
        },
        "id": "fALyEWJbP149",
        "outputId": "59fde2d2-87ad-40a6-d8bf-cd7e6ec12186"
      },
      "execution_count": null,
      "outputs": [
        {
          "output_type": "stream",
          "name": "stdout",
          "text": [
            "\n",
            "yelling: EXTRA ICE CREAM PLEASE!\n"
          ]
        }
      ]
    },
    {
      "cell_type": "code",
      "source": [
        "def say_this(phrase = \"Hi\"):\n",
        "  print(phrase)\n",
        "\n",
        "say_this()\n",
        "say_this(\"Bye\")"
      ],
      "metadata": {
        "colab": {
          "base_uri": "https://localhost:8080/"
        },
        "id": "ObQAssJcRVTA",
        "outputId": "8511409f-07e4-4d09-a6a1-b46386177080"
      },
      "execution_count": null,
      "outputs": [
        {
          "output_type": "stream",
          "name": "stdout",
          "text": [
            "Hi\n",
            "Bye\n"
          ]
        }
      ]
    },
    {
      "cell_type": "code",
      "source": [
        "def yell_this(phrase):\n",
        "  print(phrase.upper() + \"!\")\n",
        "\n",
        "words_to_yell = input(\"what would you like to yell?: \")\n",
        "print()\n",
        "\n",
        "yell_this(words_to_yell)\n"
      ],
      "metadata": {
        "colab": {
          "base_uri": "https://localhost:8080/"
        },
        "id": "p0YrfwySSDQK",
        "outputId": "6843f10e-f2df-4c3b-dd11-7811dbd49170"
      },
      "execution_count": null,
      "outputs": [
        {
          "output_type": "stream",
          "name": "stdout",
          "text": [
            "what would you like to yell?: shutup\n",
            "\n",
            "SHUTUP!\n"
          ]
        }
      ]
    },
    {
      "cell_type": "code",
      "source": [
        "def cube(num):\n",
        "  print(\"Number cube is\" ,num**3)\n",
        "cube(8)"
      ],
      "metadata": {
        "colab": {
          "base_uri": "https://localhost:8080/"
        },
        "id": "Ae-q1K84TQO4",
        "outputId": "49d7382d-d06b-4270-dc55-f4f440350eef"
      },
      "execution_count": null,
      "outputs": [
        {
          "output_type": "stream",
          "name": "stdout",
          "text": [
            "Number cube is 512\n"
          ]
        }
      ]
    },
    {
      "cell_type": "code",
      "source": [],
      "metadata": {
        "id": "z5nj2K1iU1EC"
      },
      "execution_count": null,
      "outputs": []
    },
    {
      "cell_type": "code",
      "source": [
        "def check_item(dish):\n",
        "  menu = \"chicken, kabab, Litti, chokha, manchurian, Fish\"\n",
        "  return(dish in menu)\n",
        "\n",
        "\n",
        "check_item(\"Fish\")\n",
        "  "
      ],
      "metadata": {
        "colab": {
          "base_uri": "https://localhost:8080/"
        },
        "id": "p3C1w-uPU3KA",
        "outputId": "45997fe9-d9c7-4f7c-c2ee-bd086d2001de"
      },
      "execution_count": null,
      "outputs": [
        {
          "output_type": "execute_result",
          "data": {
            "text/plain": [
              "True"
            ]
          },
          "metadata": {},
          "execution_count": 56
        }
      ]
    },
    {
      "cell_type": "code",
      "source": [
        "name = input(\"what is your name?\")\n",
        "age = "
      ],
      "metadata": {
        "id": "fGoIPkWOh8-_"
      },
      "execution_count": null,
      "outputs": []
    },
    {
      "cell_type": "code",
      "source": [
        "a = 20\n",
        "if a >10"
      ],
      "metadata": {
        "id": "b37-PN_7seaC"
      },
      "execution_count": null,
      "outputs": []
    },
    {
      "cell_type": "markdown",
      "source": [
        "Day 2 Python AWS"
      ],
      "metadata": {
        "id": "J87WMF8ietR4"
      }
    },
    {
      "cell_type": "code",
      "source": [
        "\n",
        "if name.isalnum() and not(name.isdigit()):\n",
        "  print(\"the name you entered is\", name + \". you are\", age)\n",
        "else:\n",
        "    print(\"please enter a valid name\")"
      ],
      "metadata": {
        "colab": {
          "base_uri": "https://localhost:8080/",
          "height": 217
        },
        "id": "gr7do0dmevnW",
        "outputId": "98958811-092b-4e26-9c5b-849001363612"
      },
      "execution_count": 2,
      "outputs": [
        {
          "output_type": "error",
          "ename": "NameError",
          "evalue": "ignored",
          "traceback": [
            "\u001b[0;31m---------------------------------------------------------------------------\u001b[0m",
            "\u001b[0;31mNameError\u001b[0m                                 Traceback (most recent call last)",
            "\u001b[0;32m<ipython-input-2-463c2a588645>\u001b[0m in \u001b[0;36m<module>\u001b[0;34m\u001b[0m\n\u001b[0;32m----> 1\u001b[0;31m \u001b[0;32mif\u001b[0m \u001b[0mname\u001b[0m\u001b[0;34m.\u001b[0m\u001b[0misalnum\u001b[0m\u001b[0;34m(\u001b[0m\u001b[0;34m)\u001b[0m \u001b[0;32mand\u001b[0m \u001b[0;32mnot\u001b[0m\u001b[0;34m(\u001b[0m\u001b[0mname\u001b[0m\u001b[0;34m.\u001b[0m\u001b[0misdigit\u001b[0m\u001b[0;34m(\u001b[0m\u001b[0;34m)\u001b[0m\u001b[0;34m)\u001b[0m\u001b[0;34m:\u001b[0m\u001b[0;34m\u001b[0m\u001b[0;34m\u001b[0m\u001b[0m\n\u001b[0m\u001b[1;32m      2\u001b[0m   \u001b[0mprint\u001b[0m\u001b[0;34m(\u001b[0m\u001b[0;34m\"the name you entered is\"\u001b[0m\u001b[0;34m,\u001b[0m \u001b[0mname\u001b[0m \u001b[0;34m+\u001b[0m \u001b[0;34m\". you are\"\u001b[0m\u001b[0;34m,\u001b[0m \u001b[0mage\u001b[0m\u001b[0;34m)\u001b[0m\u001b[0;34m\u001b[0m\u001b[0;34m\u001b[0m\u001b[0m\n\u001b[1;32m      3\u001b[0m \u001b[0;32melse\u001b[0m\u001b[0;34m:\u001b[0m\u001b[0;34m\u001b[0m\u001b[0;34m\u001b[0m\u001b[0m\n\u001b[1;32m      4\u001b[0m     \u001b[0mprint\u001b[0m\u001b[0;34m(\u001b[0m\u001b[0;34m\"please enter a valid name\"\u001b[0m\u001b[0;34m)\u001b[0m\u001b[0;34m\u001b[0m\u001b[0;34m\u001b[0m\u001b[0m\n",
            "\u001b[0;31mNameError\u001b[0m: name 'name' is not defined"
          ]
        }
      ]
    },
    {
      "cell_type": "code",
      "source": [
        "test_string_1 = \"welcome\"\n",
        "test_string_2 = \"i have $3\"\n",
        "test_string_3 = \"with a function it's efficient to report code\"\n",
        "\n",
        "def w_start_test(test_string):\n",
        "  if test_string.startswith('w'):\n",
        "    print(test_string, \"-starts with 'w'\")\n",
        "\n",
        "  else:\n",
        "    print(test_string, \"-does NOT starts with 'w'\")\n",
        "\n",
        "w_start_test(test_string_1)\n",
        "w_start_test(test_string_2)\n",
        "w_start_test(test_string_3)"
      ],
      "metadata": {
        "colab": {
          "base_uri": "https://localhost:8080/"
        },
        "id": "VZATbxuUfeb3",
        "outputId": "5038243e-e08e-4944-bf70-d568ea109685"
      },
      "execution_count": 7,
      "outputs": [
        {
          "output_type": "stream",
          "name": "stdout",
          "text": [
            "welcome -starts with 'w'\n",
            "i have $3 -does NOT starts with 'w'\n",
            "with a function it's efficient to report code -starts with 'w'\n"
          ]
        }
      ]
    },
    {
      "cell_type": "code",
      "source": [
        "test_string_1 = \"welcome\"\n",
        "test_string_2 = \"i have $3\"\n",
        "\n",
        "if test_string_1.islower():\n",
        "  print(test_string_1. \"-is not all lower\")\n",
        "else:\n",
        "  print(test_string_2.)"
      ],
      "metadata": {
        "id": "yBvJ68lskG3h"
      },
      "execution_count": null,
      "outputs": []
    },
    {
      "cell_type": "code",
      "source": [
        "str1 = \"cloudthat\"\n",
        "str2 = \"Hopingminds\"\n",
        "str1 > str2"
      ],
      "metadata": {
        "colab": {
          "base_uri": "https://localhost:8080/"
        },
        "id": "9DkH6FxpraIM",
        "outputId": "62f918a8-e383-4414-9885-e2e2d327df90"
      },
      "execution_count": 8,
      "outputs": [
        {
          "output_type": "execute_result",
          "data": {
            "text/plain": [
              "True"
            ]
          },
          "metadata": {},
          "execution_count": 8
        }
      ]
    },
    {
      "cell_type": "code",
      "source": [
        "x = 18\n",
        "if x + 18 == x + x:\n",
        "    print(\"Pass: x + 18 is equal to\", x + x)\n",
        "    \n",
        "else:\n",
        "    print(\"Fail: x + 18 is not equal to\", x + x)"
      ],
      "metadata": {
        "id": "sIBVPYocxh_v",
        "outputId": "31312d8f-3ee5-4d33-fe52-38c5700fe853",
        "colab": {
          "base_uri": "https://localhost:8080/"
        }
      },
      "execution_count": 22,
      "outputs": [
        {
          "output_type": "stream",
          "name": "stdout",
          "text": [
            "Pass: x + 18 is equal to 36\n"
          ]
        }
      ]
    },
    {
      "cell_type": "code",
      "source": [
        "def add(num1,num2):\n",
        "  sum = num1+num2\n",
        "  return sum\n",
        "\n",
        "def subtract(num1,num2):\n",
        "  difference = num1-num2\n",
        "  return difference\n",
        "\n",
        "def multiply(num1,num2):\n",
        "  product = num1*num2\n",
        "  return product \n",
        "\n",
        "def divide(num1,num2):\n",
        "  if num1 != 0:\n",
        "    quotient = num2/num1\n",
        "    return quotient\n",
        "  else:\n",
        "     return 0 \n",
        "\n",
        "num1 = int(input(\"please enter a number:\"))\n",
        "num2 = int(input(\"please enter a second number:\"))\n",
        "operator = input(\"what is your operation? enter + - * or / only.\" )\n",
        "\n",
        "if operator == \"+\":\n",
        "   answer = add(num1,num2)\n",
        "\n",
        "elif operator == \"-\":\n",
        "   answer = subtract(num1,num2)   \n",
        "\n",
        "elif operator == \"*\":\n",
        "   answer = multiply(num1,num2)   \n",
        "\n",
        "elif operator == \"/\":\n",
        "   answer = divide(num1,num2)   \n",
        "\n",
        "else:\n",
        "  print(\"This is not a valid operation!\")\n",
        "print(str(answer))"
      ],
      "metadata": {
        "id": "oSvveVVly3EM",
        "outputId": "dd53782f-f2f6-4e63-fd32-b7d268a7d229",
        "colab": {
          "base_uri": "https://localhost:8080/"
        }
      },
      "execution_count": 23,
      "outputs": [
        {
          "output_type": "stream",
          "name": "stdout",
          "text": [
            "please enter a number:20\n",
            "please enter a second number:10\n",
            "what is your operation? enter + - * or / only.+\n",
            "30\n"
          ]
        }
      ]
    }
  ]
}